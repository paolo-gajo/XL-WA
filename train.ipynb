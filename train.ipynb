{
 "cells": [
  {
   "cell_type": "code",
   "execution_count": 10,
   "metadata": {},
   "outputs": [
    {
     "data": {
      "text/plain": [
       "0    Adding the concepts of \" intermediary \" and \" ...\n",
       "1    Aggiungere i concetti di \" intermediario \" e \"...\n",
       "2    0-0 1-1 2-2 3-3 4-4 5-5 6-6 7-7 8-8 9-9 10-10 ...\n",
       "Name: 0, dtype: object"
      ]
     },
     "execution_count": 10,
     "metadata": {},
     "output_type": "execute_result"
    }
   ],
   "source": [
    "import pandas as pd\n",
    "\n",
    "df = pd.read_csv('/home/pgajo/working/food/XL-WA/data/it/train.tsv', sep='\\t', header=None)\n",
    "sample = [el for el in df.iterrows()][0][1]\n",
    "sample"
   ]
  },
  {
   "cell_type": "code",
   "execution_count": 15,
   "metadata": {},
   "outputs": [
    {
     "name": "stdout",
     "output_type": "stream",
     "text": [
      "Adding the concepts of \" intermediary \" and \" agent \" would require a precise outline of the operation of various categories of financial intermediaries and an exhaustive description of the relationship between suppliers and intermediaries or agents .\n",
      "Aggiungere i concetti di \" intermediario \" e \" agente \" richiederebbe una descrizione precisa della funzione delle varie categorie di intermediari finanziari e una descrizione esauriente del rapporto fra fornitori e intermediari o agenti .\n",
      "0-0 1-1 2-2 3-3 4-4 5-5 6-6 7-7 8-8 9-9 10-10 11-11 12-11 13-12 15-13 14-14 16-15 17-15 18-16 19-17 20-18 21-19 22-20 24-21 23-22 25-23 26-24 28-25 27-26 29-27 30-27 31-28 32-29 33-30 34-31 35-32 36-33 37-34 38-35\n"
     ]
    }
   ],
   "source": [
    "text_it = sample[0]\n",
    "print(text_it)\n",
    "text_en = sample[1]\n",
    "print(text_en)\n",
    "alignments = sample[2]\n",
    "print(alignments)"
   ]
  },
  {
   "cell_type": "code",
   "execution_count": 27,
   "metadata": {},
   "outputs": [
    {
     "name": "stdout",
     "output_type": "stream",
     "text": [
      "[('0', '0'), ('1', '1'), ('2', '2'), ('3', '3'), ('4', '4'), ('5', '5'), ('6', '6'), ('7', '7'), ('8', '8'), ('9', '9'), ('10', '10'), ('11', '11'), ('12', '11'), ('13', '12'), ('15', '13'), ('14', '14'), ('16', '15'), ('17', '15'), ('18', '16'), ('19', '17'), ('20', '18'), ('21', '19'), ('22', '20'), ('24', '21'), ('23', '22'), ('25', '23'), ('26', '24'), ('28', '25'), ('27', '26'), ('29', '27'), ('30', '27'), ('31', '28'), ('32', '29'), ('33', '30'), ('34', '31'), ('35', '32'), ('36', '33'), ('37', '34'), ('38', '35')]\n"
     ]
    }
   ],
   "source": [
    "tuple_list = []\n",
    "for el in alignments.split():\n",
    "    tuple_list.append(tuple(el.split('-')))\n",
    "print(tuple_list)"
   ]
  },
  {
   "cell_type": "code",
   "execution_count": 33,
   "metadata": {},
   "outputs": [
    {
     "data": {
      "text/html": [
       "<div>\n",
       "<style scoped>\n",
       "    .dataframe tbody tr th:only-of-type {\n",
       "        vertical-align: middle;\n",
       "    }\n",
       "\n",
       "    .dataframe tbody tr th {\n",
       "        vertical-align: top;\n",
       "    }\n",
       "\n",
       "    .dataframe thead th {\n",
       "        text-align: right;\n",
       "    }\n",
       "</style>\n",
       "<table border=\"1\" class=\"dataframe\">\n",
       "  <thead>\n",
       "    <tr style=\"text-align: right;\">\n",
       "      <th></th>\n",
       "      <th>it_index</th>\n",
       "      <th>it_word</th>\n",
       "      <th>en_index</th>\n",
       "      <th>en_word</th>\n",
       "    </tr>\n",
       "  </thead>\n",
       "  <tbody>\n",
       "    <tr>\n",
       "      <th>0</th>\n",
       "      <td>0</td>\n",
       "      <td>Adding</td>\n",
       "      <td>0</td>\n",
       "      <td>Aggiungere</td>\n",
       "    </tr>\n",
       "    <tr>\n",
       "      <th>1</th>\n",
       "      <td>1</td>\n",
       "      <td>the</td>\n",
       "      <td>1</td>\n",
       "      <td>i</td>\n",
       "    </tr>\n",
       "    <tr>\n",
       "      <th>2</th>\n",
       "      <td>2</td>\n",
       "      <td>concepts</td>\n",
       "      <td>2</td>\n",
       "      <td>concetti</td>\n",
       "    </tr>\n",
       "    <tr>\n",
       "      <th>3</th>\n",
       "      <td>3</td>\n",
       "      <td>of</td>\n",
       "      <td>3</td>\n",
       "      <td>di</td>\n",
       "    </tr>\n",
       "    <tr>\n",
       "      <th>4</th>\n",
       "      <td>4</td>\n",
       "      <td>\"</td>\n",
       "      <td>4</td>\n",
       "      <td>\"</td>\n",
       "    </tr>\n",
       "  </tbody>\n",
       "</table>\n",
       "</div>"
      ],
      "text/plain": [
       "  it_index   it_word en_index     en_word\n",
       "0        0    Adding        0  Aggiungere\n",
       "1        1       the        1           i\n",
       "2        2  concepts        2    concetti\n",
       "3        3        of        3          di\n",
       "4        4         \"        4           \""
      ]
     },
     "execution_count": 33,
     "metadata": {},
     "output_type": "execute_result"
    }
   ],
   "source": [
    "alignment_table = []\n",
    "for el in tuple_list:\n",
    "    alignment_table.append([el[0], text_it.split()[int(el[0])], el[1], text_en.split()[int(el[1])]])\n",
    "\n",
    "# turn into a dataframe without index but use the column names\n",
    "df = pd.DataFrame(alignment_table, columns=['it_index', 'it_word', 'en_index', 'en_word'])\n",
    "df.head()"
   ]
  },
  {
   "cell_type": "code",
   "execution_count": null,
   "metadata": {},
   "outputs": [],
   "source": []
  }
 ],
 "metadata": {
  "kernelspec": {
   "display_name": "food-env",
   "language": "python",
   "name": "python3"
  },
  "language_info": {
   "codemirror_mode": {
    "name": "ipython",
    "version": 3
   },
   "file_extension": ".py",
   "mimetype": "text/x-python",
   "name": "python",
   "nbconvert_exporter": "python",
   "pygments_lexer": "ipython3",
   "version": "3.8.10"
  }
 },
 "nbformat": 4,
 "nbformat_minor": 2
}
